{
 "cells": [
  {
   "cell_type": "markdown",
   "id": "b8b60d78-63c1-4f52-96e6-ff9944dc0f3f",
   "metadata": {
    "jp-MarkdownHeadingCollapsed": true
   },
   "source": [
    "check logistic to course\n",
    "add simple moving averages (optionality) + bollinger etc\n",
    "add drop(na) explicit\n",
    "docstrings / comments\n",
    "dependent variable not explicity called \"log_returns\", but set instead\n",
    "multiple assets \n",
    "DataExplorer class\n"
   ]
  },
  {
   "cell_type": "code",
   "execution_count": 5,
   "id": "e445edf5-e6f4-4d86-8ebd-d77cba076273",
   "metadata": {},
   "outputs": [],
   "source": [
    "import pandas as pd\n",
    "import numpy as np\n",
    "from sklearn.linear_model import LogisticRegression\n",
    "import matplotlib.pyplot as plt\n",
    "import yfinance as yf\n"
   ]
  },
  {
   "cell_type": "code",
   "execution_count": 16,
   "id": "de7d7e9e-4cfb-4413-8ae3-1ad96fc05230",
   "metadata": {},
   "outputs": [],
   "source": [
    "class DataIngestor():\n",
    "\n",
    "    def __init__(self, ticker, start, end):\n",
    "        self._ticker = ticker\n",
    "        self.start = start\n",
    "        self.end = end\n",
    "        self.get_data()\n",
    "    \n",
    "    def get_data(self):\n",
    "        ''' retrieves (from yahoo finance) and prepares the data\n",
    "        '''\n",
    "        raw = yf.download(self._ticker, self.start, self.end).Close.to_frame()\n",
    "        raw.rename(columns = {\"Close\":\"price\"}, inplace = True)\n",
    "        self.data = raw\n",
    "        "
   ]
  },
  {
   "cell_type": "code",
   "execution_count": 57,
   "id": "c192b340-9376-4b38-ba92-d237f473497f",
   "metadata": {},
   "outputs": [],
   "source": [
    "class PreProcessor():\n",
    "    ''' Class for preparing the raw data for analysis. As a minimum it will create the dependent variable and \n",
    "    split the dataset into training and test sets.\n",
    "    '''\n",
    "    def __init__(self, df, train_ratio):\n",
    "        self.df = df\n",
    "        self.train_ratio = train_ratio\n",
    "        self.log_returns()\n",
    "        self.train_df, self.test_df = self.split_data()\n",
    "        \n",
    "    def log_returns(self):\n",
    "        '''calculates log returns, our dependent variable\n",
    "        '''\n",
    "        self.df[\"log_returns\"] = np.log(self.df.price/self.df.price.shift(1))\n",
    "    \n",
    "    def split_data(self):\n",
    "        ''' splits the data into training set & test set\n",
    "        '''\n",
    "        full_df = self.df.copy()\n",
    "        split_index = int(len(full_df) * self.train_ratio)\n",
    "        split_date = full_df.index[split_index-1]\n",
    "        train_start = full_df.index[0]\n",
    "        test_end = full_df.index[-1]\n",
    "            \n",
    "        train_df = full_df.loc[train_start:split_date].copy()\n",
    "        test_df = full_df.loc[split_date:test_end].copy()\n",
    "        \n",
    "        return train_df, test_df\n",
    "   \n"
   ]
  },
  {
   "cell_type": "code",
   "execution_count": 119,
   "id": "c86e17ab-10e9-449a-844d-78b72a9d26d1",
   "metadata": {},
   "outputs": [],
   "source": [
    "class FeatureEngineer():\n",
    "    ''' Class for the vectorized backtesting of Machine Learning-based trading strategies (Classification).\n",
    "    '''\n",
    "    def __init__(self, train_df, test_df, lags):\n",
    "        self.lags = lags\n",
    "        self.train_df = train_df\n",
    "        self.test_df = test_df\n",
    "        self.feature_columns = []\n",
    "        \n",
    "    def lag_returns(self):\n",
    "        new_feature_columns = [\"lag{}\".format(lag) for lag in range(1, self.lags + 1)]\n",
    "        self.feature_columns.extend(new_feature_columns)\n",
    "        \n",
    "        for df in [self.train_df, self.test_df]:\n",
    "            for lag in range(1, self.lags + 1):\n",
    "                col = \"lag{}\".format(lag)\n",
    "                df[col] = df[\"log_returns\"].shift(lag)\n",
    "            df.dropna(inplace=True)\n",
    "        \n",
    "    "
   ]
  },
  {
   "cell_type": "code",
   "execution_count": 168,
   "id": "6a828c4b-e72b-4a83-bfff-3f9e6d51917a",
   "metadata": {},
   "outputs": [],
   "source": [
    "class MLBacktester():\n",
    "    ''' Class for the vectorized backtesting of Machine Learning-based trading strategies (Classification).\n",
    "    '''\n",
    "    def __init__(self, train_df, test_df, feature_columns, tc):\n",
    "        self.train_df = train_df\n",
    "        self.test_df = test_df\n",
    "        self.feature_columns = feature_columns\n",
    "        self.tc = tc\n",
    "        self.model = LogisticRegression(C = 1e6, max_iter = 100000, multi_class = \"ovr\")\n",
    "        \n",
    "    def fit_model(self):\n",
    "        self.model.fit(self.train_df[self.feature_columns], np.sign(self.train_df[\"log_returns\"]))\n",
    "        \n",
    "    def test_strategy(self):\n",
    "        self.predict = self.model.predict(self.test_df[self.feature_columns])\n",
    "        \n",
    "\n",
    "    def check_results(self):\n",
    "        self.test_df[\"pred\"] = self.predict\n",
    "        \n",
    "        # calculate Strategy Returns\n",
    "        self.test_df[\"strategy\"] = self.test_df[\"pred\"] * self.test_df[\"log_returns\"]\n",
    "        \n",
    "        # determine the number of trades in each bar\n",
    "        self.test_df[\"trades\"] = self.test_df[\"pred\"].diff().fillna(0).abs()\n",
    "        \n",
    "        # subtract transaction/trading costs from pre-cost return\n",
    "        self.test_df.strategy = self.test_df.strategy - self.test_df.trades * self.tc\n",
    "        \n",
    "        # calculate cumulative returns for strategy & buy and hold\n",
    "        self.test_df[\"creturns\"] = self.test_df[\"log_returns\"].cumsum().apply(np.exp)\n",
    "        self.test_df[\"cstrategy\"] = self.test_df['strategy'].cumsum().apply(np.exp)\n",
    "        self.results = self.test_df\n",
    "        \n",
    "        perf = self.results[\"cstrategy\"].iloc[-1] # absolute performance of the strategy\n",
    "        outperf = perf - self.results[\"creturns\"].iloc[-1] # out-/underperformance of strategy\n",
    "        \n",
    "        return round(perf, 6), round(outperf, 6)\n",
    "        \n",
    "    def plot_results(self):\n",
    "        ''' Plots the performance of the trading strategy and compares to \"buy and hold\".\n",
    "        '''\n",
    "        if self.results is None:\n",
    "            print(\"Run test_strategy() first.\")\n",
    "        else:\n",
    "            title = \"Logistic Regression: | TC = {}\".format(self.tc)\n",
    "            self.results[[\"creturns\", \"cstrategy\"]].plot(title=title, figsize=(12, 8))\n"
   ]
  },
  {
   "cell_type": "code",
   "execution_count": 17,
   "id": "fefafc55-2518-4bf4-bd8a-f277f6b61baf",
   "metadata": {},
   "outputs": [
    {
     "name": "stderr",
     "output_type": "stream",
     "text": [
      "C:\\Users\\KaranSadhwani\\github\\financial-prediction-pipeline\\financial-prediction-pipeline-env\\Lib\\site-packages\\yfinance\\utils.py:775: FutureWarning: The 'unit' keyword in TimedeltaIndex construction is deprecated and will be removed in a future version. Use pd.to_timedelta instead.\n",
      "  df.index += _pd.TimedeltaIndex(dst_error_hours, 'h')\n",
      "[*********************100%%**********************]  1 of 1 completed\n"
     ]
    }
   ],
   "source": [
    "asset = DataIngestor(\"EURUSD=X\", \"2019-01-01\", \"2020-08-31\")"
   ]
  },
  {
   "cell_type": "code",
   "execution_count": 54,
   "id": "e7c21481-864e-48a8-a13a-9e222c418b3f",
   "metadata": {},
   "outputs": [
    {
     "name": "stdout",
     "output_type": "stream",
     "text": [
      "433\n"
     ]
    }
   ],
   "source": [
    "preprocessing = PreProcessor(df, train_ratio=0.7)"
   ]
  },
  {
   "cell_type": "code",
   "execution_count": 65,
   "id": "c1dae424-c147-407f-8d66-88d9587acf51",
   "metadata": {},
   "outputs": [],
   "source": [
    "train_df = preprocessing.train_df\n",
    "test_df = preprocessing.test_df"
   ]
  },
  {
   "cell_type": "code",
   "execution_count": 120,
   "id": "d8677a95-d2fe-408f-945c-163f50c682c9",
   "metadata": {},
   "outputs": [],
   "source": [
    "feature_engineering = FeatureEngineer(train_df, test_df, 5)"
   ]
  },
  {
   "cell_type": "code",
   "execution_count": 121,
   "id": "6839e9ef-f1e3-47c6-ad09-e0392c18a569",
   "metadata": {},
   "outputs": [],
   "source": [
    "feature_engineering.lag_returns()\n",
    "train_df = feature_engineering.train_df"
   ]
  },
  {
   "cell_type": "code",
   "execution_count": 122,
   "id": "eb62d43b-31e0-4c1a-8c30-cb4ab4f14915",
   "metadata": {},
   "outputs": [
    {
     "data": {
      "text/html": [
       "<div>\n",
       "<style scoped>\n",
       "    .dataframe tbody tr th:only-of-type {\n",
       "        vertical-align: middle;\n",
       "    }\n",
       "\n",
       "    .dataframe tbody tr th {\n",
       "        vertical-align: top;\n",
       "    }\n",
       "\n",
       "    .dataframe thead th {\n",
       "        text-align: right;\n",
       "    }\n",
       "</style>\n",
       "<table border=\"1\" class=\"dataframe\">\n",
       "  <thead>\n",
       "    <tr style=\"text-align: right;\">\n",
       "      <th></th>\n",
       "      <th>price</th>\n",
       "      <th>log_returns</th>\n",
       "      <th>lag1</th>\n",
       "      <th>lag2</th>\n",
       "      <th>lag3</th>\n",
       "      <th>lag4</th>\n",
       "      <th>lag5</th>\n",
       "    </tr>\n",
       "    <tr>\n",
       "      <th>Date</th>\n",
       "      <th></th>\n",
       "      <th></th>\n",
       "      <th></th>\n",
       "      <th></th>\n",
       "      <th></th>\n",
       "      <th></th>\n",
       "      <th></th>\n",
       "    </tr>\n",
       "  </thead>\n",
       "  <tbody>\n",
       "    <tr>\n",
       "      <th>2019-03-13</th>\n",
       "      <td>1.128745</td>\n",
       "      <td>0.002503</td>\n",
       "      <td>0.002384</td>\n",
       "      <td>0.003039</td>\n",
       "      <td>-0.010277</td>\n",
       "      <td>0.000611</td>\n",
       "      <td>-0.002672</td>\n",
       "    </tr>\n",
       "    <tr>\n",
       "      <th>2019-03-14</th>\n",
       "      <td>1.133106</td>\n",
       "      <td>0.003856</td>\n",
       "      <td>0.002503</td>\n",
       "      <td>0.002384</td>\n",
       "      <td>0.003039</td>\n",
       "      <td>-0.010277</td>\n",
       "      <td>0.000611</td>\n",
       "    </tr>\n",
       "    <tr>\n",
       "      <th>2019-03-15</th>\n",
       "      <td>1.130838</td>\n",
       "      <td>-0.002004</td>\n",
       "      <td>0.003856</td>\n",
       "      <td>0.002503</td>\n",
       "      <td>0.002384</td>\n",
       "      <td>0.003039</td>\n",
       "      <td>-0.010277</td>\n",
       "    </tr>\n",
       "    <tr>\n",
       "      <th>2019-03-18</th>\n",
       "      <td>1.131977</td>\n",
       "      <td>0.001007</td>\n",
       "      <td>-0.002004</td>\n",
       "      <td>0.003856</td>\n",
       "      <td>0.002503</td>\n",
       "      <td>0.002384</td>\n",
       "      <td>0.003039</td>\n",
       "    </tr>\n",
       "    <tr>\n",
       "      <th>2019-03-19</th>\n",
       "      <td>1.133620</td>\n",
       "      <td>0.001450</td>\n",
       "      <td>0.001007</td>\n",
       "      <td>-0.002004</td>\n",
       "      <td>0.003856</td>\n",
       "      <td>0.002503</td>\n",
       "      <td>0.002384</td>\n",
       "    </tr>\n",
       "    <tr>\n",
       "      <th>...</th>\n",
       "      <td>...</td>\n",
       "      <td>...</td>\n",
       "      <td>...</td>\n",
       "      <td>...</td>\n",
       "      <td>...</td>\n",
       "      <td>...</td>\n",
       "      <td>...</td>\n",
       "    </tr>\n",
       "    <tr>\n",
       "      <th>2020-02-24</th>\n",
       "      <td>1.083905</td>\n",
       "      <td>0.004721</td>\n",
       "      <td>-0.002046</td>\n",
       "      <td>0.001360</td>\n",
       "      <td>-0.004132</td>\n",
       "      <td>-0.000152</td>\n",
       "      <td>-0.000390</td>\n",
       "    </tr>\n",
       "    <tr>\n",
       "      <th>2020-02-25</th>\n",
       "      <td>1.084920</td>\n",
       "      <td>0.000936</td>\n",
       "      <td>0.004721</td>\n",
       "      <td>-0.002046</td>\n",
       "      <td>0.001360</td>\n",
       "      <td>-0.004132</td>\n",
       "      <td>-0.000152</td>\n",
       "    </tr>\n",
       "    <tr>\n",
       "      <th>2020-02-26</th>\n",
       "      <td>1.088200</td>\n",
       "      <td>0.003018</td>\n",
       "      <td>0.000936</td>\n",
       "      <td>0.004721</td>\n",
       "      <td>-0.002046</td>\n",
       "      <td>0.001360</td>\n",
       "      <td>-0.004132</td>\n",
       "    </tr>\n",
       "    <tr>\n",
       "      <th>2020-02-27</th>\n",
       "      <td>1.088589</td>\n",
       "      <td>0.000358</td>\n",
       "      <td>0.003018</td>\n",
       "      <td>0.000936</td>\n",
       "      <td>0.004721</td>\n",
       "      <td>-0.002046</td>\n",
       "      <td>0.001360</td>\n",
       "    </tr>\n",
       "    <tr>\n",
       "      <th>2020-02-28</th>\n",
       "      <td>1.099723</td>\n",
       "      <td>0.010175</td>\n",
       "      <td>0.000358</td>\n",
       "      <td>0.003018</td>\n",
       "      <td>0.000936</td>\n",
       "      <td>0.004721</td>\n",
       "      <td>-0.002046</td>\n",
       "    </tr>\n",
       "  </tbody>\n",
       "</table>\n",
       "<p>252 rows × 7 columns</p>\n",
       "</div>"
      ],
      "text/plain": [
       "               price  log_returns      lag1      lag2      lag3      lag4  \\\n",
       "Date                                                                        \n",
       "2019-03-13  1.128745     0.002503  0.002384  0.003039 -0.010277  0.000611   \n",
       "2019-03-14  1.133106     0.003856  0.002503  0.002384  0.003039 -0.010277   \n",
       "2019-03-15  1.130838    -0.002004  0.003856  0.002503  0.002384  0.003039   \n",
       "2019-03-18  1.131977     0.001007 -0.002004  0.003856  0.002503  0.002384   \n",
       "2019-03-19  1.133620     0.001450  0.001007 -0.002004  0.003856  0.002503   \n",
       "...              ...          ...       ...       ...       ...       ...   \n",
       "2020-02-24  1.083905     0.004721 -0.002046  0.001360 -0.004132 -0.000152   \n",
       "2020-02-25  1.084920     0.000936  0.004721 -0.002046  0.001360 -0.004132   \n",
       "2020-02-26  1.088200     0.003018  0.000936  0.004721 -0.002046  0.001360   \n",
       "2020-02-27  1.088589     0.000358  0.003018  0.000936  0.004721 -0.002046   \n",
       "2020-02-28  1.099723     0.010175  0.000358  0.003018  0.000936  0.004721   \n",
       "\n",
       "                lag5  \n",
       "Date                  \n",
       "2019-03-13 -0.002672  \n",
       "2019-03-14  0.000611  \n",
       "2019-03-15 -0.010277  \n",
       "2019-03-18  0.003039  \n",
       "2019-03-19  0.002384  \n",
       "...              ...  \n",
       "2020-02-24 -0.000390  \n",
       "2020-02-25 -0.000152  \n",
       "2020-02-26 -0.004132  \n",
       "2020-02-27  0.001360  \n",
       "2020-02-28 -0.002046  \n",
       "\n",
       "[252 rows x 7 columns]"
      ]
     },
     "execution_count": 122,
     "metadata": {},
     "output_type": "execute_result"
    }
   ],
   "source": [
    "train_df"
   ]
  },
  {
   "cell_type": "code",
   "execution_count": 123,
   "id": "32529384-8711-469d-a07f-a6bc9b5af2e0",
   "metadata": {},
   "outputs": [
    {
     "data": {
      "text/plain": [
       "['lag1', 'lag2', 'lag3', 'lag4', 'lag5']"
      ]
     },
     "execution_count": 123,
     "metadata": {},
     "output_type": "execute_result"
    }
   ],
   "source": [
    "feature_columns = feature_engineering.feature_columns\n"
   ]
  },
  {
   "cell_type": "code",
   "execution_count": 174,
   "id": "45f291a2-b9fd-470b-8294-271cb5310258",
   "metadata": {},
   "outputs": [],
   "source": [
    "mlbacktester = MLBacktester(train_df, test_df, feature_columns, 0.0000)"
   ]
  },
  {
   "cell_type": "code",
   "execution_count": 175,
   "id": "4a19f4ea-4780-49a0-9c22-3dda7c557be4",
   "metadata": {},
   "outputs": [],
   "source": [
    "mlbacktester.fit_model()"
   ]
  },
  {
   "cell_type": "code",
   "execution_count": 176,
   "id": "daf1339e-37b7-4b8b-b6f7-efe0ab378966",
   "metadata": {},
   "outputs": [],
   "source": [
    "mlbacktester.test_strategy()"
   ]
  },
  {
   "cell_type": "code",
   "execution_count": 177,
   "id": "6c913ca0-3513-406e-8efe-5b3a269cf7da",
   "metadata": {},
   "outputs": [
    {
     "data": {
      "text/plain": [
       "(0.991845, -0.102712)"
      ]
     },
     "execution_count": 177,
     "metadata": {},
     "output_type": "execute_result"
    }
   ],
   "source": [
    "mlbacktester.check_results()"
   ]
  },
  {
   "cell_type": "code",
   "execution_count": 178,
   "id": "b13a3f6a-e176-4256-93f5-6ac256fb835f",
   "metadata": {},
   "outputs": [
    {
     "data": {
      "image/png": "[encoded data removed]",
      "text/plain": [
       "<Figure size 1200x800 with 1 Axes>"
      ]
     },
     "metadata": {},
     "output_type": "display_data"
    }
   ],
   "source": [
    "mlbacktester.plot_results()"
   ]
  },
  {
   "cell_type": "code",
   "execution_count": null,
   "id": "0f10ea0d-9b9f-4acf-870c-2c23983839e8",
   "metadata": {},
   "outputs": [],
   "source": []
  }
 ],
 "metadata": {
  "kernelspec": {
   "display_name": "Python 3 (ipykernel)",
   "language": "python",
   "name": "python3"
  },
  "language_info": {
   "codemirror_mode": {
    "name": "ipython",
    "version": 3
   },
   "file_extension": ".py",
   "mimetype": "text/x-python",
   "name": "python",
   "nbconvert_exporter": "python",
   "pygments_lexer": "ipython3",
   "version": "3.11.8"
  }
 },
 "nbformat": 4,
 "nbformat_minor": 5
}
